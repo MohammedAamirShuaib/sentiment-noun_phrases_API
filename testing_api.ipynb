{
 "cells": [
  {
   "cell_type": "code",
   "execution_count": 1,
   "metadata": {},
   "outputs": [],
   "source": [
    "import requests\n",
    "import json"
   ]
  },
  {
   "cell_type": "code",
   "execution_count": 2,
   "metadata": {},
   "outputs": [],
   "source": [
    "sentence ={\"input\": \"i am happy\"}\n",
    "sentence_list ={\"input\":['I love India','I hate India','I neutral India']}"
   ]
  },
  {
   "cell_type": "code",
   "execution_count": 3,
   "metadata": {},
   "outputs": [],
   "source": [
    "#sentiment = requests.request(\"POST\", 'http://127.0.0.1:8000/', data=json.dumps(sentence)).json()\n",
    "#sentiment\n",
    "sentiment = requests.post('http://127.0.0.1:8000/', data=json.dumps(sentence)).json()\n",
    "sentiment"
   ]
  },
  {
   "cell_type": "code",
   "execution_count": 9,
   "metadata": {},
   "outputs": [
    {
     "data": {
      "text/plain": [
       "['POSITIVE', 'NEGATIVE', 'NEUTRAL']"
      ]
     },
     "execution_count": 9,
     "metadata": {},
     "output_type": "execute_result"
    }
   ],
   "source": [
    "#sentiment_list = requests.request(\"POST\", 'http://127.0.0.1:8000/batch/', data=json.dumps(sentence_list)).json()\n",
    "#sentiment_list\n",
    "sentiment_list = requests.post('http://127.0.0.1:8000/batch/', data=json.dumps(sentence_list)).json()\n",
    "sentiment_list"
   ]
  },
  {
   "cell_type": "code",
   "execution_count": null,
   "metadata": {},
   "outputs": [],
   "source": []
  }
 ],
 "metadata": {
  "interpreter": {
   "hash": "4d8d39b1d363218e0aef426b312921093ad016b08ac4af6c0e89cc3438ec7d06"
  },
  "kernelspec": {
   "display_name": "Python 3.7.9 ('env': venv)",
   "language": "python",
   "name": "python3"
  },
  "language_info": {
   "codemirror_mode": {
    "name": "ipython",
    "version": 3
   },
   "file_extension": ".py",
   "mimetype": "text/x-python",
   "name": "python",
   "nbconvert_exporter": "python",
   "pygments_lexer": "ipython3",
   "version": "3.7.9"
  },
  "orig_nbformat": 4
 },
 "nbformat": 4,
 "nbformat_minor": 2
}
