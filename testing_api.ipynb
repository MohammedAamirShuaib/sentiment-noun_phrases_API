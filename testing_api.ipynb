{
 "cells": [
  {
   "cell_type": "code",
   "execution_count": 1,
   "metadata": {},
   "outputs": [],
   "source": [
    "import requests\n",
    "import json"
   ]
  },
  {
   "cell_type": "code",
   "execution_count": 69,
   "metadata": {},
   "outputs": [
    {
     "data": {
      "text/plain": [
       "48"
      ]
     },
     "execution_count": 69,
     "metadata": {},
     "output_type": "execute_result"
    }
   ],
   "source": [
    "sentence_list ={\"input\":['I love India','I am Aamir and I love India','Aamir lives in Bangalore','I love India','I am Aamir and I love India','Aamir lives in Bangalore','I love India','I am Aamir and I love India','Aamir lives in Bangalore','I love India','I am Aamir and I love India','Aamir lives in Bangalore','I love India','I am Aamir and I love India','Aamir lives in Bangalore','I love India','I am Aamir and I love India','Aamir lives in Bangalore','I love India','I am Aamir and I love India','Aamir lives in Bangalore','I love India','I am Aamir and I love India','Aamir lives in Bangalore','I love India','I am Aamir and I love India','Aamir lives in Bangalore','I love India','I am Aamir and I love India','Aamir lives in Bangalore','I love India','I am Aamir and I love India','Aamir lives in Bangalore','I love India','I am Aamir and I love India','Aamir lives in Bangalore','I love India','I am Aamir and I love India','Aamir lives in Bangalore','I love India','I am Aamir and I love India','Aamir lives in Bangalore','I love India','I am Aamir and I love India','Aamir lives in Bangalore','I love India','I am Aamir and I love India','Aamir lives in Bangalore']}\n",
    "len(sentence_list[\"input\"])"
   ]
  },
  {
   "cell_type": "code",
   "execution_count": 74,
   "metadata": {},
   "outputs": [
    {
     "data": {
      "text/plain": [
       "48"
      ]
     },
     "execution_count": 74,
     "metadata": {},
     "output_type": "execute_result"
    }
   ],
   "source": [
    "#sentiment_list = requests.request(\"POST\", 'http://127.0.0.1:8000/batch_sentiment_25/', data=json.dumps(sentence_list)).json()\n",
    "#sentiment_list\n",
    "sentiment_list = requests.post('http://127.0.0.1:8000/sentiment/', data=json.dumps(sentence_list)).json()\n",
    "len(sentiment_list)"
   ]
  },
  {
   "cell_type": "code",
   "execution_count": 73,
   "metadata": {},
   "outputs": [
    {
     "data": {
      "text/plain": [
       "48"
      ]
     },
     "execution_count": 73,
     "metadata": {},
     "output_type": "execute_result"
    }
   ],
   "source": [
    "noun_list = requests.post('http://127.0.0.1:8000/noun_phrases/', data=json.dumps(sentence_list)).json()\n",
    "len(noun_list)"
   ]
  }
 ],
 "metadata": {
  "interpreter": {
   "hash": "4d8d39b1d363218e0aef426b312921093ad016b08ac4af6c0e89cc3438ec7d06"
  },
  "kernelspec": {
   "display_name": "Python 3.7.9 ('env': venv)",
   "language": "python",
   "name": "python3"
  },
  "language_info": {
   "codemirror_mode": {
    "name": "ipython",
    "version": 3
   },
   "file_extension": ".py",
   "mimetype": "text/x-python",
   "name": "python",
   "nbconvert_exporter": "python",
   "pygments_lexer": "ipython3",
   "version": "3.7.9"
  },
  "orig_nbformat": 4
 },
 "nbformat": 4,
 "nbformat_minor": 2
}
