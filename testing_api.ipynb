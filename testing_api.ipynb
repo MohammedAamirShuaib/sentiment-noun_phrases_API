{
 "cells": [
  {
   "cell_type": "code",
   "execution_count": 1,
   "metadata": {},
   "outputs": [],
   "source": [
    "import requests\n",
    "import json"
   ]
  },
  {
   "cell_type": "code",
   "execution_count": 29,
   "metadata": {},
   "outputs": [
    {
     "data": {
      "text/plain": [
       "4"
      ]
     },
     "execution_count": 29,
     "metadata": {},
     "output_type": "execute_result"
    }
   ],
   "source": [
    "sentence ={\"input\": \"i am happy\"}\n",
    "sentence_list ={\"input\":['I love India','I am Aamir and I love India','Aamir lives in Bangalore','I love India']}\n",
    "len(sentence_list[\"input\"])"
   ]
  },
  {
   "cell_type": "code",
   "execution_count": 31,
   "metadata": {},
   "outputs": [
    {
     "data": {
      "text/plain": [
       "['POSITIVE',\n",
       " 'POSITIVE',\n",
       " 'NEUTRAL',\n",
       " 'POSITIVE',\n",
       " 'POSITIVE',\n",
       " 'NEUTRAL',\n",
       " 'POSITIVE',\n",
       " 'POSITIVE',\n",
       " 'NEUTRAL',\n",
       " 'POSITIVE',\n",
       " 'POSITIVE',\n",
       " 'NEUTRAL',\n",
       " 'POSITIVE',\n",
       " 'POSITIVE',\n",
       " 'NEUTRAL',\n",
       " 'POSITIVE',\n",
       " 'POSITIVE',\n",
       " 'NEUTRAL',\n",
       " 'POSITIVE',\n",
       " 'POSITIVE',\n",
       " 'NEUTRAL',\n",
       " 'POSITIVE',\n",
       " 'POSITIVE',\n",
       " 'NEUTRAL',\n",
       " 'POSITIVE']"
      ]
     },
     "execution_count": 31,
     "metadata": {},
     "output_type": "execute_result"
    }
   ],
   "source": [
    "#sentiment_list = requests.request(\"POST\", 'http://127.0.0.1:8000/batch_sentiment_25/', data=json.dumps(sentence_list)).json()\n",
    "#sentiment_list\n",
    "sentiment_list = requests.post('http://127.0.0.1:8000/batch_sentiment_25/', data=json.dumps(new_sen_list)).json()\n",
    "sentiment_list"
   ]
  },
  {
   "cell_type": "code",
   "execution_count": null,
   "metadata": {},
   "outputs": [],
   "source": [
    "noun_list = requests.post('http://127.0.0.1:8000/noun_phrases/', data=json.dumps(sentence_list)).json()\n",
    "noun_list"
   ]
  },
  {
   "cell_type": "code",
   "execution_count": 24,
   "metadata": {},
   "outputs": [],
   "source": [
    "list = ['I love India','I am Aamir and I love India','Aamir lives in Bangalore','I love India','I am Aamir and I love India','Aamir lives in Bangalore','I love India','I am Aamir and I love India','Aamir lives in Bangalore','I love India','I am Aamir and I love India','Aamir lives in Bangalore','I love India','I am Aamir and I love India','Aamir lives in Bangalore','I love India','I am Aamir and I love India','Aamir lives in Bangalore','I love India','I am Aamir and I love India','Aamir lives in Bangalore','I love India','I am Aamir and I love India','Aamir lives in Bangalore','I love India','I am Aamir and I love India','Aamir lives in Bangalore','I love India','I am Aamir and I love India','Aamir lives in Bangalore','I love India','I am Aamir and I love India','Aamir lives in Bangalore','I love India','I am Aamir and I love India','Aamir lives in Bangalore','I love India','I am Aamir and I love India','Aamir lives in Bangalore','I love India','I am Aamir and I love India','Aamir lives in Bangalore','I love India','I am Aamir and I love India','Aamir lives in Bangalore','I love India','I am Aamir and I love India','Aamir lives in Bangalore']"
   ]
  },
  {
   "cell_type": "code",
   "execution_count": 25,
   "metadata": {},
   "outputs": [
    {
     "data": {
      "text/plain": [
       "25"
      ]
     },
     "execution_count": 25,
     "metadata": {},
     "output_type": "execute_result"
    }
   ],
   "source": [
    "new_list = list[0:25]\n",
    "len(new_list)"
   ]
  },
  {
   "cell_type": "code",
   "execution_count": 26,
   "metadata": {},
   "outputs": [],
   "source": [
    "new_sen_list = {\"input\": new_list}"
   ]
  },
  {
   "cell_type": "code",
   "execution_count": 28,
   "metadata": {},
   "outputs": [
    {
     "data": {
      "text/plain": [
       "['I love India',\n",
       " 'I am Aamir and I love India',\n",
       " 'Aamir lives in Bangalore',\n",
       " 'I love India',\n",
       " 'I am Aamir and I love India',\n",
       " 'Aamir lives in Bangalore',\n",
       " 'I love India',\n",
       " 'I am Aamir and I love India',\n",
       " 'Aamir lives in Bangalore',\n",
       " 'I love India',\n",
       " 'I am Aamir and I love India',\n",
       " 'Aamir lives in Bangalore',\n",
       " 'I love India',\n",
       " 'I am Aamir and I love India',\n",
       " 'Aamir lives in Bangalore',\n",
       " 'I love India',\n",
       " 'I am Aamir and I love India',\n",
       " 'Aamir lives in Bangalore',\n",
       " 'I love India',\n",
       " 'I am Aamir and I love India',\n",
       " 'Aamir lives in Bangalore',\n",
       " 'I love India',\n",
       " 'I am Aamir and I love India',\n",
       " 'Aamir lives in Bangalore',\n",
       " 'I love India']"
      ]
     },
     "execution_count": 28,
     "metadata": {},
     "output_type": "execute_result"
    }
   ],
   "source": [
    "new_list"
   ]
  },
  {
   "cell_type": "code",
   "execution_count": 33,
   "metadata": {},
   "outputs": [
    {
     "data": {
      "text/plain": [
       "25"
      ]
     },
     "execution_count": 33,
     "metadata": {},
     "output_type": "execute_result"
    }
   ],
   "source": [
    "len(sentiment_list)"
   ]
  },
  {
   "cell_type": "code",
   "execution_count": 58,
   "metadata": {},
   "outputs": [
    {
     "data": {
      "text/plain": [
       "201"
      ]
     },
     "execution_count": 58,
     "metadata": {},
     "output_type": "execute_result"
    }
   ],
   "source": [
    "import numpy as np\n",
    "long_list = np.arange(0, 201).tolist()\n",
    "len(long_list)"
   ]
  },
  {
   "cell_type": "code",
   "execution_count": 60,
   "metadata": {},
   "outputs": [
    {
     "name": "stdout",
     "output_type": "stream",
     "text": [
      "[0, 1, 2, 3, 4, 5, 6, 7, 8, 9, 10, 11, 12, 13, 14, 15, 16, 17, 18, 19, 20, 21, 22, 23, 24]\n",
      "[25, 26, 27, 28, 29, 30, 31, 32, 33, 34, 35, 36, 37, 38, 39, 40, 41, 42, 43, 44, 45, 46, 47, 48, 49]\n",
      "[50, 51, 52, 53, 54, 55, 56, 57, 58, 59, 60, 61, 62, 63, 64, 65, 66, 67, 68, 69, 70, 71, 72, 73, 74]\n",
      "[75, 76, 77, 78, 79, 80, 81, 82, 83, 84, 85, 86, 87, 88, 89, 90, 91, 92, 93, 94, 95, 96, 97, 98, 99]\n",
      "[100, 101, 102, 103, 104, 105, 106, 107, 108, 109, 110, 111, 112, 113, 114, 115, 116, 117, 118, 119, 120, 121, 122, 123, 124]\n",
      "[125, 126, 127, 128, 129, 130, 131, 132, 133, 134, 135, 136, 137, 138, 139, 140, 141, 142, 143, 144, 145, 146, 147, 148, 149]\n",
      "[150, 151, 152, 153, 154, 155, 156, 157, 158, 159, 160, 161, 162, 163, 164, 165, 166, 167, 168, 169, 170, 171, 172, 173, 174]\n",
      "[175, 176, 177, 178, 179, 180, 181, 182, 183, 184, 185, 186, 187, 188, 189, 190, 191, 192, 193, 194, 195, 196, 197, 198, 199]\n",
      "[200]\n"
     ]
    }
   ],
   "source": [
    "\n",
    "if len(long_list)%25==0:\n",
    "    list_itr = int(len(long_list)/25)\n",
    "    start=0\n",
    "    end=25\n",
    "    for i in range(list_itr):\n",
    "        exe_list=long_list[start:end]\n",
    "        start+=25\n",
    "        end+=25\n",
    "        print(exe_list)\n",
    "else:\n",
    "    list_itr = int(len(long_list)/25)\n",
    "    start=0\n",
    "    end=25\n",
    "    for i in range(list_itr):\n",
    "        exe_list=long_list[start:end]\n",
    "        start+=25\n",
    "        end+=25\n",
    "        print(exe_list)\n",
    "    exe_list=long_list[start:]\n",
    "    print(exe_list)\n",
    "\n"
   ]
  },
  {
   "cell_type": "code",
   "execution_count": 56,
   "metadata": {},
   "outputs": [
    {
     "data": {
      "text/plain": [
       "8"
      ]
     },
     "execution_count": 56,
     "metadata": {},
     "output_type": "execute_result"
    }
   ],
   "source": [
    "int(200/25)"
   ]
  },
  {
   "cell_type": "code",
   "execution_count": 62,
   "metadata": {},
   "outputs": [
    {
     "name": "stdout",
     "output_type": "stream",
     "text": [
      "[[0, 1, 2, 3, 4, 5, 6, 7, 8, 9, 10, 11, 12, 13, 14, 15, 16, 17, 18, 19, 20, 21, 22, 23, 24], [25, 26, 27, 28, 29, 30, 31, 32, 33, 34, 35, 36, 37, 38, 39, 40, 41, 42, 43, 44, 45, 46, 47, 48, 49], [50, 51, 52, 53, 54, 55, 56, 57, 58, 59, 60, 61, 62, 63, 64, 65, 66, 67, 68, 69, 70, 71, 72, 73, 74], [75, 76, 77, 78, 79, 80, 81, 82, 83, 84, 85, 86, 87, 88, 89, 90, 91, 92, 93, 94, 95, 96, 97, 98, 99], [100, 101, 102, 103, 104, 105, 106, 107, 108, 109, 110, 111, 112, 113, 114, 115, 116, 117, 118, 119, 120, 121, 122, 123, 124], [125, 126, 127, 128, 129, 130, 131, 132, 133, 134, 135, 136, 137, 138, 139, 140, 141, 142, 143, 144, 145, 146, 147, 148, 149], [150, 151, 152, 153, 154, 155, 156, 157, 158, 159, 160, 161, 162, 163, 164, 165, 166, 167, 168, 169, 170, 171, 172, 173, 174], [175, 176, 177, 178, 179, 180, 181, 182, 183, 184, 185, 186, 187, 188, 189, 190, 191, 192, 193, 194, 195, 196, 197, 198, 199], [200]]\n"
     ]
    }
   ],
   "source": [
    "n = 25\n",
    "final = [long_list[i * n:(i + 1) * n] for i in range((len(long_list) + n - 1) // n )] \n",
    "print(final)"
   ]
  },
  {
   "cell_type": "code",
   "execution_count": 64,
   "metadata": {},
   "outputs": [
    {
     "name": "stdout",
     "output_type": "stream",
     "text": [
      "hi\n",
      "hi\n",
      "hi\n",
      "hi\n",
      "hi\n",
      "hi\n",
      "hi\n",
      "hi\n",
      "hi\n"
     ]
    }
   ],
   "source": [
    "for i in range(len(final)):\n",
    "    print(\"hi\")"
   ]
  },
  {
   "cell_type": "code",
   "execution_count": null,
   "metadata": {},
   "outputs": [],
   "source": []
  }
 ],
 "metadata": {
  "interpreter": {
   "hash": "4d8d39b1d363218e0aef426b312921093ad016b08ac4af6c0e89cc3438ec7d06"
  },
  "kernelspec": {
   "display_name": "Python 3.7.9 ('env': venv)",
   "language": "python",
   "name": "python3"
  },
  "language_info": {
   "codemirror_mode": {
    "name": "ipython",
    "version": 3
   },
   "file_extension": ".py",
   "mimetype": "text/x-python",
   "name": "python",
   "nbconvert_exporter": "python",
   "pygments_lexer": "ipython3",
   "version": "3.7.9"
  },
  "orig_nbformat": 4
 },
 "nbformat": 4,
 "nbformat_minor": 2
}
